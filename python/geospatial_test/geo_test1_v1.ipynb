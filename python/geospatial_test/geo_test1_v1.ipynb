{
 "cells": [
  {
   "cell_type": "markdown",
   "metadata": {},
   "source": [
    "# Import modules"
   ]
  },
  {
   "cell_type": "code",
   "execution_count": 1,
   "metadata": {
    "collapsed": false
   },
   "outputs": [],
   "source": [
    "#import general modules\n",
    "import numpy as np\n",
    "import io, sys, time, math, os.path, unittest, sys\n",
    "import matplotlib.pyplot as plt\n",
    "import pandas as pd"
   ]
  },
  {
   "cell_type": "markdown",
   "metadata": {},
   "source": [
    "# Load files"
   ]
  },
  {
   "cell_type": "code",
   "execution_count": 2,
   "metadata": {
    "collapsed": false
   },
   "outputs": [],
   "source": [
    "#Todo: use sys commands to dynamically find in github folder\n",
    "github_folder='/Users/mrubashkin/greenspace/'\n",
    "file_location=github_folder+'raw_data/Dept_Interior_Data/'\n",
    "\n",
    "file_name='NRRS_reservations_byVisitorOriginZip_AllYears.csv'\n",
    "zip_origin_df=pd.read_csv(file_location+file_name)\n",
    "\n",
    "file_name='NRRS_reservations_byFacilityName_AllYears.csv'\n",
    "by_campground_df=pd.read_csv(file_location+file_name)\n",
    "\n",
    "file_name='PPL_reservationdata.csv' #2.2gb --> very large\n",
    "reservation_df=by_campground_df=pd.read_csv(file_location+file_name)\n",
    "\n",
    "file_name='2010CensusPopulationData.csv'\n",
    "racial_info_df=pd.read_csv(file_location+file_name)\n",
    "\n",
    "file_name='zbp10totals.txt'\n",
    "business_activity_with_zipcode_df=by_campground_df=pd.read_csv(file_location+file_name)\n"
   ]
  },
  {
   "cell_type": "markdown",
   "metadata": {},
   "source": [
    "# Join dataframes"
   ]
  },
  {
   "cell_type": "code",
   "execution_count": 3,
   "metadata": {
    "collapsed": false
   },
   "outputs": [],
   "source": [
    "#join the dataframes\n",
    "aggregate_df=pd.merge(zip_origin_df, racial_info_df, left_on = 'visitor_zip', right_on = 'Zip')"
   ]
  },
  {
   "cell_type": "markdown",
   "metadata": {},
   "source": [
    "# Create new columns"
   ]
  },
  {
   "cell_type": "code",
   "execution_count": 4,
   "metadata": {
    "collapsed": false
   },
   "outputs": [],
   "source": [
    "#get the utilization_factors into the dataframe\n",
    "aggregate_df['utilization_factor_unique_visit'] = pd.Series(\n",
    "    (aggregate_df.sum_dur / aggregate_df.Population))\n",
    "aggregate_df['utilization_factor_total_nights_stayed']= pd.Series(\n",
    "    (aggregate_df.sum_persnight  / aggregate_df.Population))"
   ]
  },
  {
   "cell_type": "code",
   "execution_count": 5,
   "metadata": {
    "collapsed": false
   },
   "outputs": [
    {
     "name": "stdout",
     "output_type": "stream",
     "text": [
      "This 0.000754 should equal that 0.000754\n"
     ]
    }
   ],
   "source": [
    "'''\n",
    "TODO\n",
    "make a unittest to make sure this is joined correctly\n",
    "'''\n",
    "print 'This %f should equal that %f'%\\\n",
    "    (float(aggregate_df.iloc[[0]]['sum_dur']\\\n",
    "    /float(aggregate_df.iloc[[0]]['Population'])),\\\n",
    "     float(aggregate_df.iloc[[0]]['utilization_factor_unique_visit']))"
   ]
  },
  {
   "cell_type": "code",
   "execution_count": 6,
   "metadata": {
    "collapsed": false
   },
   "outputs": [],
   "source": [
    "#get the male/female breakdowns per visit per zip code\n",
    "#using unique visits for the rest of these breakdowns!! (i.e. sum_dur)\n",
    "aggregate_df['visits_female'] = pd.Series(\n",
    "    ((aggregate_df.PopulationFemale / aggregate_df.Population)*aggregate_df.sum_dur))\n",
    "aggregate_df['visits_male'] = pd.Series(\n",
    "    ((aggregate_df.PopulationFemale / aggregate_df.Population)*aggregate_df.sum_dur))"
   ]
  },
  {
   "cell_type": "code",
   "execution_count": 7,
   "metadata": {
    "collapsed": false
   },
   "outputs": [
    {
     "name": "stdout",
     "output_type": "stream",
     "text": [
      "This 7.156058 should equal that 7.156058\n"
     ]
    }
   ],
   "source": [
    "'''\n",
    "TODO\n",
    "make a unittest to make sure this is joined correctly\n",
    "'''\n",
    "print 'This %f should equal that %f'%\\\n",
    "    (float(aggregate_df.iloc[[0]]['PopulationFemale']\\\n",
    "    /float(aggregate_df.iloc[[0]]['Population']))\\\n",
    "    *float(aggregate_df.iloc[[0]]['sum_dur']),\\\n",
    "     float(aggregate_df.iloc[[0]]['visits_female']))"
   ]
  },
  {
   "cell_type": "code",
   "execution_count": 8,
   "metadata": {
    "collapsed": false
   },
   "outputs": [],
   "source": [
    "#get the race breakdown per visit per zip code\n",
    "aggregate_df['visits_RaceWhite'] = pd.Series(\n",
    "    (aggregate_df.PopulationRaceWhite * aggregate_df.sum_dur))\n",
    "aggregate_df['visits_RaceBlack'] = pd.Series(\n",
    "    (aggregate_df.PopulationRaceBlack * aggregate_df.sum_dur))\n",
    "aggregate_df['visits_Amerindian'] = pd.Series(\n",
    "    (aggregate_df.PopulationAmerindian * aggregate_df.sum_dur))\n",
    "aggregate_df['visits_RacePacific'] = pd.Series(\n",
    "    (aggregate_df.PopulationRacePacific * aggregate_df.sum_dur))\n",
    "aggregate_df['visits_RaceLatino'] = pd.Series(\n",
    "    (aggregate_df.PopulationRaceLatino * aggregate_df.sum_dur))\n",
    "aggregate_df['visits_RaceMulti'] = pd.Series(\n",
    "    (aggregate_df.PopulationRaceMulti * aggregate_df.sum_dur))\n",
    "aggregate_df['visits_RaceOther'] = pd.Series(\n",
    "    (aggregate_df.PopulationRaceOther * aggregate_df.sum_dur))"
   ]
  },
  {
   "cell_type": "code",
   "execution_count": 9,
   "metadata": {
    "collapsed": false
   },
   "outputs": [
    {
     "name": "stdout",
     "output_type": "stream",
     "text": [
      "This 0.060312 should equal that 0.060312\n"
     ]
    }
   ],
   "source": [
    "'''\n",
    "TODO\n",
    "make a unittest to make sure this is joined correctly\n",
    "'''\n",
    "print 'This %f should equal that %f'%\\\n",
    "    (float(aggregate_df.iloc[[0]]['PopulationRaceWhite']\\\n",
    "    *float(aggregate_df.iloc[[0]]['sum_dur'])),\\\n",
    "     float(aggregate_df.iloc[[0]]['visits_RaceWhite']))"
   ]
  },
  {
   "cell_type": "markdown",
   "metadata": {},
   "source": [
    "# Trim data"
   ]
  },
  {
   "cell_type": "code",
   "execution_count": 27,
   "metadata": {
    "collapsed": false
   },
   "outputs": [
    {
     "name": "stdout",
     "output_type": "stream",
     "text": [
      "31861\n",
      "31861\n"
     ]
    }
   ],
   "source": [
    "#drop all columns that do not have a lat/long\n",
    "truncated_data=aggregate_df.copy()\n",
    "print len(truncated_data)\n",
    "truncated_data.dropna(subset=['qpartysize25'], how='any')\n",
    "print len(truncated_data)\n"
   ]
  },
  {
   "cell_type": "markdown",
   "metadata": {},
   "source": [
    "# Save the aggregate file to database"
   ]
  },
  {
   "cell_type": "code",
   "execution_count": null,
   "metadata": {
    "collapsed": false
   },
   "outputs": [],
   "source": [
    "#save the dataframe to a csv\n",
    "file_location=github_folder + 'processed_data/'\n",
    "file_name='test2.csv'\n",
    "aggregate_df.to_csv(file_location+file_name, sep=',')"
   ]
  },
  {
   "cell_type": "code",
   "execution_count": null,
   "metadata": {
    "collapsed": false
   },
   "outputs": [],
   "source": [
    "#print column info\n",
    "print_command = False\n",
    "if print_command == True:\n",
    "    print 'zip_origin_df.columns\\n',zip_origin_df.columns\n",
    "    print 'racial_info_df.columns\\n',racial_info_df.columns\n",
    "    print 'aggregate_df.columns\\n',aggregate_df.columns"
   ]
  },
  {
   "cell_type": "markdown",
   "metadata": {},
   "source": [
    "# Plot correlations"
   ]
  },
  {
   "cell_type": "code",
   "execution_count": 19,
   "metadata": {
    "collapsed": false
   },
   "outputs": [
    {
     "data": {
      "text/plain": [
       "Index([u'visitor_zip', u'visitorzip_lat', u'visitorzip_lon', u'qpartysize25',\n",
       "       u'qpartysize50', u'qpartysize75', u'qleadt25', u'qleadt50', u'qleadt75',\n",
       "       u'qdur25', u'qdur50', u'qdur75', u'qdist25', u'qdist50', u'qdist75',\n",
       "       u'res_count', u'sum_dur', u'sum_persnight', u'Zip', u'Population',\n",
       "       u'PopulationMale', u'PopulationFemale', u'MedianAge', u'MedianAgeMale',\n",
       "       u'MedianAgeFemale', u'PopulationRaceWhite', u'PopulationRaceBlack',\n",
       "       u'PopulationAmerindian', u'PopulationRaceAsian',\n",
       "       u'PopulationRacePacific', u'PopulationRaceOther',\n",
       "       u'PopulationRaceMulti', u'PopulationRaceLatino', u'Households',\n",
       "       u'HusbandWifeHouseholds', u'SingleFatherHousehold',\n",
       "       u'SingleMotherHousehold', u'NonFamilyHouseholds', u'HouseHolder15to24',\n",
       "       u'HouseHolder25to34', u'HouseHolder35to44', u'HouseHolder45to54',\n",
       "       u'HouseHolder55to59', u'HouseHolder60to64', u'HouseHolder65to74',\n",
       "       u'HouseHolder75to84', u'HouseHolder85over', u'HouseholdsWith60Plus',\n",
       "       u'HouseholdsWith75Plus', u'Households2Person', u'Households3Person',\n",
       "       u'Households4Person', u'Households5Person', u'Households6Person',\n",
       "       u'Households7PlusPerson', u'utilization_factor_unique_visit',\n",
       "       u'utilization_factor_total_nights_stayed', u'visits_female',\n",
       "       u'visits_male', u'visits_RaceWhite', u'visits_RaceBlack',\n",
       "       u'visits_Amerindian', u'visits_RacePacific', u'visits_RaceLatino',\n",
       "       u'visits_RaceMulti', u'visits_RaceOther'],\n",
       "      dtype='object')"
      ]
     },
     "execution_count": 19,
     "metadata": {},
     "output_type": "execute_result"
    }
   ],
   "source": []
  },
  {
   "cell_type": "code",
   "execution_count": 20,
   "metadata": {
    "collapsed": false
   },
   "outputs": [
    {
     "data": {
      "text/plain": [
       "[<matplotlib.lines.Line2D at 0x113a31cd0>]"
      ]
     },
     "execution_count": 20,
     "metadata": {},
     "output_type": "execute_result"
    },
    {
     "data": {
      "image/png": "[encoded data removed]",
      "text/plain": [
       "<matplotlib.figure.Figure at 0x11280b450>"
      ]
     },
     "metadata": {},
     "output_type": "display_data"
    }
   ],
   "source": [
    "%matplotlib inline\n",
    "plt.figure(figsize=(10,10))\n",
    "plt.plot(aggregate_df['visits_RaceBlack'], aggregate_df['visits_RaceWhite'],'ro',markersize = 4)"
   ]
  },
  {
   "cell_type": "code",
   "execution_count": null,
   "metadata": {
    "collapsed": true
   },
   "outputs": [],
   "source": []
  }
 ],
 "metadata": {
  "kernelspec": {
   "display_name": "Python 2",
   "language": "python",
   "name": "python2"
  },
  "language_info": {
   "codemirror_mode": {
    "name": "ipython",
    "version": 2
   },
   "file_extension": ".py",
   "mimetype": "text/x-python",
   "name": "python",
   "nbconvert_exporter": "python",
   "pygments_lexer": "ipython2",
   "version": "2.7.11"
  }
 },
 "nbformat": 4,
 "nbformat_minor": 0
}
